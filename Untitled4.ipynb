{
  "nbformat": 4,
  "nbformat_minor": 0,
  "metadata": {
    "colab": {
      "provenance": [],
      "authorship_tag": "ABX9TyMCSaS2DXXfoilrNLCoJev5",
      "include_colab_link": true
    },
    "kernelspec": {
      "name": "python3",
      "display_name": "Python 3"
    },
    "language_info": {
      "name": "python"
    },
    "accelerator": "GPU",
    "gpuClass": "standard"
  },
  "cells": [
    {
      "cell_type": "markdown",
      "metadata": {
        "id": "view-in-github",
        "colab_type": "text"
      },
      "source": [
        "<a href=\"https://colab.research.google.com/github/arzutosayeva/Machine-Learning-Tasks-and-Projects/blob/main/Untitled4.ipynb\" target=\"_parent\"><img src=\"https://colab.research.google.com/assets/colab-badge.svg\" alt=\"Open In Colab\"/></a>"
      ]
    },
    {
      "cell_type": "code",
      "execution_count": 23,
      "metadata": {
        "id": "kJ0eYHlqrMYD"
      },
      "outputs": [],
      "source": [
        "import pandas as pd\n",
        "import numpy as np\n",
        "import torch\n",
        "import torch.nn as nn\n",
        "from sklearn.preprocessing import MinMaxScaler"
      ]
    },
    {
      "cell_type": "code",
      "source": [
        "df = pd.read_csv(\"datacovid.csv\")\n",
        "country = \"France\"\n",
        "country_data = df.loc[df[\"countriesAndTerritories\"] == country]\n"
      ],
      "metadata": {
        "id": "xdSmAO4KrlDK"
      },
      "execution_count": 24,
      "outputs": []
    },
    {
      "cell_type": "code",
      "source": [
        "cases = np.array(country_data[\"cases\"])\n",
        "scaler = MinMaxScaler(feature_range=(0, 1))\n",
        "cases = scaler.fit_transform(cases.reshape(-1, 1))"
      ],
      "metadata": {
        "id": "y9lw7ZEA2gIZ"
      },
      "execution_count": 25,
      "outputs": []
    },
    {
      "cell_type": "code",
      "source": [
        "cases = np.array(country_data[\"cases\"])\n",
        "scaler = MinMaxScaler(feature_range=(0, 1))\n",
        "cases = scaler.fit_transform(cases.reshape(-1, 1))"
      ],
      "metadata": {
        "id": "TxVwj5PS3dTf"
      },
      "execution_count": 26,
      "outputs": []
    },
    {
      "cell_type": "code",
      "source": [
        "train_size = int(len(cases) * 0.8)\n",
        "test_size = len(cases) - train_size\n",
        "train_data, test_data = cases[0:train_size,:], cases[train_size:len(cases),:]"
      ],
      "metadata": {
        "id": "Qzrh5WFP344Z"
      },
      "execution_count": 27,
      "outputs": []
    },
    {
      "cell_type": "code",
      "source": [
        "def create_sequences(dataset, look_back):\n",
        "    X, y = [], []\n",
        "    for i in range(len(dataset)-look_back-1):\n",
        "        a = dataset[i:(i+look_back), 0]\n",
        "        X.append(a)\n",
        "        y.append(dataset[i + look_back, 0])\n",
        "    return np.array(X), np.array(y)"
      ],
      "metadata": {
        "id": "sSYkrTgX1Y0z"
      },
      "execution_count": 28,
      "outputs": []
    },
    {
      "cell_type": "code",
      "source": [
        "look_back = 7\n",
        "X_train, y_train = create_sequences(train_data, look_back)\n",
        "X_test, y_test = create_sequences(test_data, look_back)\n",
        "\n",
        "\n",
        "    \n",
        "    \n",
        "   \n",
        "\n",
        "\n",
        "\n",
        "\n"
      ],
      "metadata": {
        "id": "EAtXgpfLzo1Q"
      },
      "execution_count": 29,
      "outputs": []
    },
    {
      "cell_type": "code",
      "source": [
        "X_train = torch.from_numpy(X_train).type(torch.Tensor)\n",
        "y_train = torch.from_numpy(y_train).type(torch.Tensor)\n",
        "X_test = torch.from_numpy(X_test).type(torch.Tensor)\n",
        "y_test = torch.from_numpy(y_test).type(torch.Tensor)"
      ],
      "metadata": {
        "id": "qX_KTliPsv12"
      },
      "execution_count": 30,
      "outputs": []
    },
    {
      "cell_type": "code",
      "source": [
        "class LSTM(nn.Module):\n",
        "    def __init__(self, input_dim, hidden_dim, batch_size, output_dim=1, num_layers=2):\n",
        "        super(LSTM, self).__init__()\n",
        "        self.input_dim = input_dim\n",
        "        self.hidden_dim = hidden_dim\n",
        "        self.batch_size = batch_size\n",
        "        self.num_layers = num_layers\n",
        "\n",
        "        # Define the LSTM layer\n",
        "        self.lstm = nn.LSTM(self.input_dim, self.hidden_dim, self.num_layers)\n",
        "\n",
        "        # Define the output layer\n",
        "        self.linear = nn.Linear(self.hidden_dim, output_dim)\n",
        "\n",
        "        # initialize the hidden state\n",
        "        self.hidden = self.init_hidden()\n",
        "\n",
        "    def init_hidden(self):\n",
        "        # This is what we'll initialise our hidden state as\n",
        "        return (torch.zeros(self.num_layers, self.batch_size, self.hidden_dim),\n",
        "                torch.zeros(self.num_layers, self.batch_size, self.hidden_dim))\n",
        "\n",
        "    def forward(self, input):\n",
        "        # Forward pass through LSTM layer\n",
        "        lstm_out, self.hidden = self.lstm(input.view(len(input), self.batch_size, -1), self.hidden)\n",
        "\n",
        "        # Only take the output from the final timetep\n",
        "        y_pred = self.linear(lstm_out[-1].view(self.batch_size, -1))\n",
        "        return y_pred.view(-1)\n",
        "\n",
        "\n",
        "\n",
        "\n",
        "\n",
        "\n",
        "\n",
        "\n",
        "\n"
      ],
      "metadata": {
        "id": "pBBkzJs06Yua"
      },
      "execution_count": 31,
      "outputs": []
    },
    {
      "cell_type": "code",
      "source": [
        "input_dim = 7\n",
        "hidden_dim = 32\n",
        "output_dim = 1\n",
        "num_layers = 2\n",
        "batch_size = 1\n",
        "learning_rate = 0.01\n",
        "num_epochs = 1000\n",
        "\n",
        "# initialize the model\n",
        "model = LSTM(input_dim, hidden_dim, batch_size=batch_size, output_dim=output_dim, num_layers=num_layers)\n",
        "\n",
        "# define the loss function and optimizer\n",
        "criterion = nn.MSELoss()\n",
        "optimizer = torch.optim.Adam(model.parameters(), lr=learning_rate)"
      ],
      "metadata": {
        "id": "YS7rTT2F7_y0"
      },
      "execution_count": 32,
      "outputs": []
    },
    {
      "cell_type": "code",
      "source": [
        "for epoch in range(num_epochs):\n",
        "    # reset the hidden state\n",
        "    model.hidden = model.init_hidden()\n",
        "\n",
        "    # forward pass\n",
        "    y_pred = model(X_train)"
      ],
      "metadata": {
        "id": "zJGMBMNw8BCO"
      },
      "execution_count": 33,
      "outputs": []
    },
    {
      "cell_type": "code",
      "source": [
        "\n",
        "# train the model\n",
        "for epoch in range(num_epochs):\n",
        "    # reset the hidden state\n",
        "    model.hidden = model.init_hidden()\n",
        "\n",
        "    # zero the gradients\n",
        "    optimizer.zero_grad()\n",
        "\n",
        "    # forward pass\n",
        "    y_pred = model(X_train)\n",
        "\n",
        "    # compute the loss\n",
        "    loss = criterion(y_pred, y_train)\n",
        "\n",
        "    # backward pass\n",
        "    loss.backward()\n",
        "\n",
        "    # update the parameters\n",
        "    optimizer.step()\n",
        "\n",
        "    # print the loss for every 100th epoch\n",
        "    if epoch % 100 == 0:\n",
        "        print(f'Epoch: {epoch}, Loss: {loss.item()}')\n"
      ],
      "metadata": {
        "colab": {
          "base_uri": "https://localhost:8080/"
        },
        "id": "Vhh1cAxw9VV4",
        "outputId": "1ad5b14f-de3f-4e0e-e3d0-7a2ed76aaa61"
      },
      "execution_count": 34,
      "outputs": [
        {
          "output_type": "stream",
          "name": "stderr",
          "text": [
            "/usr/local/lib/python3.9/dist-packages/torch/nn/modules/loss.py:536: UserWarning: Using a target size (torch.Size([796])) that is different to the input size (torch.Size([1])). This will likely lead to incorrect results due to broadcasting. Please ensure they have the same size.\n",
            "  return F.mse_loss(input, target, reduction=self.reduction)\n"
          ]
        },
        {
          "output_type": "stream",
          "name": "stdout",
          "text": [
            "Epoch: 0, Loss: 0.15830296277999878\n",
            "Epoch: 100, Loss: 0.007240849081426859\n",
            "Epoch: 200, Loss: 0.007240667007863522\n",
            "Epoch: 300, Loss: 0.007240667473524809\n",
            "Epoch: 400, Loss: 0.007240667007863522\n",
            "Epoch: 500, Loss: 0.007240667007863522\n",
            "Epoch: 600, Loss: 0.007240667007863522\n",
            "Epoch: 700, Loss: 0.007240667007863522\n",
            "Epoch: 800, Loss: 0.007240667007863522\n",
            "Epoch: 900, Loss: 0.007240667007863522\n"
          ]
        }
      ]
    },
    {
      "cell_type": "code",
      "source": [
        "with torch.no_grad():\n",
        "    y_pred_test = model(X_test)\n",
        "\n",
        "# calculate the loss\n",
        "test_loss = criterion(y_pred_test, y_test)\n",
        "\n",
        "# print the test loss\n",
        "print('Test loss:', test_loss.item())\n",
        "\n",
        "\n",
        "\n",
        "\n",
        "\n",
        "\n",
        "\n",
        "\n",
        "\n",
        "\n"
      ],
      "metadata": {
        "colab": {
          "base_uri": "https://localhost:8080/"
        },
        "id": "5yya5202s0TO",
        "outputId": "101e618d-c64b-423e-e350-74f06a559bb4"
      },
      "execution_count": 35,
      "outputs": [
        {
          "output_type": "stream",
          "name": "stdout",
          "text": [
            "Test loss: 0.0027040166314691305\n"
          ]
        },
        {
          "output_type": "stream",
          "name": "stderr",
          "text": [
            "/usr/local/lib/python3.9/dist-packages/torch/nn/modules/loss.py:536: UserWarning: Using a target size (torch.Size([194])) that is different to the input size (torch.Size([1])). This will likely lead to incorrect results due to broadcasting. Please ensure they have the same size.\n",
            "  return F.mse_loss(input, target, reduction=self.reduction)\n"
          ]
        }
      ]
    },
    {
      "cell_type": "code",
      "source": [],
      "metadata": {
        "colab": {
          "base_uri": "https://localhost:8080/",
          "height": 165
        },
        "id": "ZBdhk46Wn4WH",
        "outputId": "16beab9f-73c2-4b47-dd28-9e727a0babe6"
      },
      "execution_count": 37,
      "outputs": [
        {
          "output_type": "error",
          "ename": "NameError",
          "evalue": "ignored",
          "traceback": [
            "\u001b[0;31m---------------------------------------------------------------------------\u001b[0m",
            "\u001b[0;31mNameError\u001b[0m                                 Traceback (most recent call last)",
            "\u001b[0;32m<ipython-input-37-c35e13a221ff>\u001b[0m in \u001b[0;36m<module>\u001b[0;34m\u001b[0m\n\u001b[0;32m----> 1\u001b[0;31m \u001b[0mprint\u001b[0m\u001b[0;34m(\u001b[0m\u001b[0;34m'Input shape:'\u001b[0m\u001b[0;34m,\u001b[0m \u001b[0minput_seq\u001b[0m\u001b[0;34m.\u001b[0m\u001b[0mshape\u001b[0m\u001b[0;34m)\u001b[0m\u001b[0;34m\u001b[0m\u001b[0;34m\u001b[0m\u001b[0m\n\u001b[0m",
            "\u001b[0;31mNameError\u001b[0m: name 'input_seq' is not defined"
          ]
        }
      ]
    },
    {
      "cell_type": "code",
      "source": [
        "# Reshape the test data to be in the format of (num_samples, sequence_length, num_features)\n",
        "X_test = X_test.reshape((194, 1, 7))\n",
        "\n",
        "# Set the model to evaluation mode\n",
        "model.eval()\n",
        "\n",
        "# Initialize the hidden state for making predictions\n",
        "hidden = model.init_hidden()\n",
        "\n",
        "# Define a variable to store the predictions\n",
        "y_pred = []\n",
        "\n",
        "# Loop through the test data and make predictions\n",
        "for i in range(len(X_test)):\n",
        "    # Get the input sequence for the current timestep\n",
        "    input_seq = X_test[i:i+1, :, :]\n",
        "    \n",
        "    # Make a prediction using the model\n",
        "    prediction = model(input_seq.float())\n",
        "    \n",
        "    # Append the prediction to the list of predictions\n",
        "    y_pred.append(prediction.item())\n",
        "    \n",
        "    # Update the hidden state\n",
        "    hidden = tuple([h.detach() for h in hidden])\n",
        "    hidden = tuple([h.data for h in hidden])\n",
        "    \n",
        "    \n",
        "# Convert the list of predictions to a numpy array\n",
        "y_pred = np.array(y_pred)\n",
        "\n",
        "# Print the predictions\n",
        "print(y_pred)\n",
        "\n",
        "\n",
        "\n",
        "\n",
        "\n"
      ],
      "metadata": {
        "colab": {
          "base_uri": "https://localhost:8080/"
        },
        "id": "UOh7sXCZfmbC",
        "outputId": "0434dff1-d912-41a2-8e71-89e7ca75bf32"
      },
      "execution_count": 51,
      "outputs": [
        {
          "output_type": "stream",
          "name": "stdout",
          "text": [
            "[0.46337304 0.46337333 0.46337384 0.46337655 0.46337995 0.46337792\n",
            " 0.46337608 0.46337169 0.46336475 0.46336162 0.4633626  0.46336278\n",
            " 0.46336332 0.46336326 0.463359   0.46335429 0.46335152 0.46335158\n",
            " 0.46335322 0.4633536  0.46335191 0.46334678 0.46334276 0.4633421\n",
            " 0.46334279 0.46334404 0.4633427  0.46334153 0.46334136 0.46334007\n",
            " 0.46333927 0.46333939 0.46334064 0.46334133 0.46334171 0.46334228\n",
            " 0.46334085 0.46334353 0.46334586 0.46333981 0.46334431 0.46334592\n",
            " 0.46333981 0.46334314 0.46333569 0.46333337 0.4633399  0.4633376\n",
            " 0.46333617 0.46333694 0.46333662 0.46333456 0.46333563 0.4633379\n",
            " 0.46333814 0.46333817 0.46333662 0.46333563 0.46333471 0.46333528\n",
            " 0.46333721 0.46333763 0.46333912 0.46333864 0.46333167 0.46332809\n",
            " 0.46333098 0.46333626 0.46334451 0.46334922 0.46335205 0.46334317\n",
            " 0.46334779 0.46334869 0.46334767 0.46335638 0.46334457 0.46333733\n",
            " 0.46333477 0.46333301 0.46333206 0.46333185 0.46333328 0.4633351\n",
            " 0.46333715 0.46333805 0.46333709 0.46333584 0.46333659 0.46333829\n",
            " 0.46333936 0.46335387 0.46336576 0.46335644 0.46335682 0.46335143\n",
            " 0.46335551 0.46337196 0.46336767 0.46336076 0.46335801 0.46335521\n",
            " 0.46335557 0.46336356 0.46336833 0.46337494 0.46337971 0.46338153\n",
            " 0.46338195 0.46338627 0.46338671 0.46338505 0.4634012  0.46341041\n",
            " 0.46341968 0.46341422 0.46341094 0.46342486 0.46344268 0.46346483\n",
            " 0.46346062 0.46345302 0.46345142 0.46345738 0.46347407 0.46346945\n",
            " 0.46346766 0.46348694 0.46348557 0.46348566 0.46349075 0.46347997\n",
            " 0.46348599 0.46350083 0.46348032 0.46346101 0.46345669 0.46344507\n",
            " 0.46343592 0.46342203 0.46341133 0.46340406 0.46339419 0.46338421\n",
            " 0.46337575 0.46337137 0.46336457 0.46335784 0.46335319 0.46334776\n",
            " 0.46334311 0.46333978 0.46333677 0.46333331 0.46333048 0.46332744\n",
            " 0.46332526 0.46332467 0.46332347 0.46332231 0.46332109 0.4633202\n",
            " 0.46331969 0.46331945 0.4633193  0.463319   0.46331885 0.46331868\n",
            " 0.46331856 0.46331853 0.4633185  0.4633185  0.4633185  0.4633185\n",
            " 0.4633185  0.4633185  0.4633185  0.4633185  0.4633185  0.4633185\n",
            " 0.4633185  0.46331853 0.4633185  0.4633185  0.4633185  0.46331853\n",
            " 0.4633185  0.4633185  0.4633185  0.4633185  0.4633185  0.4633185\n",
            " 0.4633185  0.4633185 ]\n"
          ]
        }
      ]
    },
    {
      "cell_type": "code",
      "source": [
        "import matplotlib.pyplot as plt\n",
        "\n",
        "# Plot the predicted values against the actual values\n",
        "plt.plot(y_pred, label='Predicted')\n",
        "plt.plot(y_test, label='Actual')\n",
        "plt.xlabel('Time')\n",
        "plt.ylabel('Value')\n",
        "plt.legend()\n",
        "plt.show()\n"
      ],
      "metadata": {
        "colab": {
          "base_uri": "https://localhost:8080/",
          "height": 279
        },
        "id": "F7QQdNJzquy_",
        "outputId": "b56844ae-c927-417e-fe3f-438cd7d32729"
      },
      "execution_count": 52,
      "outputs": [
        {
          "output_type": "display_data",
          "data": {
            "text/plain": [
              "<Figure size 432x288 with 1 Axes>"
            ],
            "image/png": "[encoded data removed]"
          },
          "metadata": {
            "needs_background": "light"
          }
        }
      ]
    },
    {
      "cell_type": "code",
      "source": [
        "import matplotlib.pyplot as plt\n",
        "\n",
        "# Define the time points for future predictions\n",
        "future_time_points = np.arange(len(X_test), len(X_test) + len(y_pred))\n",
        "\n",
        "# Plot the actual data and the predicted values\n",
        "plt.plot(future_time_points, y_pred, label='Predicted Cases')\n",
        "plt.plot(future_time_points, y_test, label='Actual Cases')\n",
        "plt.xlabel('Time')\n",
        "plt.ylabel('Number of Cases')\n",
        "plt.title('Predicted vs Actual Cases')\n",
        "plt.legend()\n",
        "plt.show()"
      ],
      "metadata": {
        "colab": {
          "base_uri": "https://localhost:8080/",
          "height": 295
        },
        "id": "t4bW_SIPrkxz",
        "outputId": "aa9dc851-6e8e-4043-de73-ab61122188f9"
      },
      "execution_count": 53,
      "outputs": [
        {
          "output_type": "display_data",
          "data": {
            "text/plain": [
              "<Figure size 432x288 with 1 Axes>"
            ],
            "image/png": "[encoded data removed]"
          },
          "metadata": {
            "needs_background": "light"
          }
        }
      ]
    },
    {
      "cell_type": "code",
      "source": [
        "print(X_test.shape)"
      ],
      "metadata": {
        "colab": {
          "base_uri": "https://localhost:8080/"
        },
        "id": "rFGqK997oovX",
        "outputId": "ad6e5d32-0511-47f4-e6da-f8da7dfaf1c7"
      },
      "execution_count": 42,
      "outputs": [
        {
          "output_type": "stream",
          "name": "stdout",
          "text": [
            "torch.Size([194, 7])\n"
          ]
        }
      ]
    },
    {
      "cell_type": "code",
      "source": [
        "# Create a figure and axes object\n",
        "fig, ax = plt.subplots(figsize=(10,6))\n",
        "\n",
        "# Plot the actual and predicted number of cases\n",
        "ax.plot(y_test, label='Actual Cases')\n",
        "ax.plot(y_pred, label='Predicted Cases', linestyle='--', color='red')\n",
        "\n",
        "# Set the title and axis labels\n",
        "ax.set_title('Actual vs. Predicted Number of Cases')\n",
        "ax.set_xlabel('Time')\n",
        "ax.set_ylabel('Number of Cases')\n",
        "\n",
        "# Add a legend\n",
        "ax.legend()\n",
        "\n",
        "# Show the plot\n",
        "plt.show()\n",
        "\n",
        "\n",
        "\n"
      ],
      "metadata": {
        "colab": {
          "base_uri": "https://localhost:8080/",
          "height": 404
        },
        "id": "Vne39TJnvCBL",
        "outputId": "5f3e43ca-63ec-4f7c-c8c5-ed0e2bf4de97"
      },
      "execution_count": 60,
      "outputs": [
        {
          "output_type": "display_data",
          "data": {
            "text/plain": [
              "<Figure size 720x432 with 1 Axes>"
            ],
            "image/png": "[encoded data removed]"
          },
          "metadata": {
            "needs_background": "light"
          }
        }
      ]
    }
  ]
}