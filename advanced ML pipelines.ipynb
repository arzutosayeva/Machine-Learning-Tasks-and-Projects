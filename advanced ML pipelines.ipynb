{
 "cells": [
  {
   "cell_type": "code",
   "execution_count": 144,
   "metadata": {},
   "outputs": [],
   "source": [
    "import pandas as pd\n",
    "import numpy as np\n",
    "import matplotlib.pyplot as plt\n",
    "import seaborn as sns"
   ]
  },
  {
   "cell_type": "code",
   "execution_count": 145,
   "metadata": {},
   "outputs": [
    {
     "name": "stdout",
     "output_type": "stream",
     "text": [
      "Column LotFrontage has 259 null values\n",
      "Column Alley has 1369 null values\n",
      "Column MasVnrType has 8 null values\n",
      "Column MasVnrArea has 8 null values\n",
      "Column BsmtQual has 37 null values\n",
      "Column BsmtCond has 37 null values\n",
      "Column BsmtExposure has 38 null values\n",
      "Column BsmtFinType1 has 37 null values\n",
      "Column BsmtFinType2 has 38 null values\n",
      "Column Electrical has 1 null values\n",
      "Column FireplaceQu has 690 null values\n",
      "Column GarageType has 81 null values\n",
      "Column GarageYrBlt has 81 null values\n",
      "Column GarageFinish has 81 null values\n",
      "Column GarageQual has 81 null values\n",
      "Column GarageCond has 81 null values\n",
      "Column PoolQC has 1453 null values\n",
      "Column Fence has 1179 null values\n",
      "Column MiscFeature has 1406 null values\n"
     ]
    }
   ],
   "source": [
    "df=pd.read_csv(r'C:/Users/Arzu/Downloads/train.csv')\n",
    "null_cols = []\n",
    "for col in df.columns:\n",
    "    if df[col].isnull().sum() > 0 :\n",
    "        print(\"Column\",col, \"has\", df[col].isnull().sum(),\"null values\")    \n",
    "        null_cols.append(col)\n",
    "\n",
    "\n",
    "df=df.drop(columns=['MSZoning',  'Street','Alley',\n",
    "        'LotShape', 'LandContour',  'LotConfig',\n",
    "       'LandSlope',  'Condition1', 'Condition2', 'BldgType',\n",
    "       'HouseStyle',  'YearBuilt', 'YearRemodAdd',\n",
    "       'RoofStyle', 'RoofMatl', 'Exterior1st', 'Exterior2nd', 'MasVnrType',\n",
    "        'ExterQual', 'ExterCond', 'Foundation', 'BsmtQual',\n",
    "       'BsmtCond', 'BsmtExposure', 'BsmtFinType1', \n",
    "       'BsmtFinType2',  \n",
    "       'HeatingQC', 'CentralAir', 'Electrical', \n",
    "       'LowQualFinSF',  'BsmtFullBath',  'FullBath',\n",
    "       'HalfBath', 'KitchenQual',\n",
    "       'TotRmsAbvGrd',  'Fireplaces', 'FireplaceQu', 'GarageType',\n",
    "       'GarageYrBlt', 'GarageFinish', 'GarageCars', 'GarageQual',\n",
    "       'GarageCond', 'PavedDrive', 'WoodDeckSF', 'OpenPorchSF',\n",
    "       'EnclosedPorch', '3SsnPorch', 'ScreenPorch', 'PoolArea', 'PoolQC',\n",
    "       'Fence', 'MiscFeature', 'MoSold',\n",
    "       'SaleCondition','Functional'])\n",
    "#drop columns with most of the null values(MSZoning,Alley,PoolQC,Fence,MiscFeature)\n",
    "#'MSSubClass', 'LotFrontage', 'LotArea', 'Utilities','Neighborhood', 'OverallQual', 'OverallCond', 'MasVnrArea','BsmtFinSF1', 'BsmtFinSF2', 'BsmtUnfSF', 'TotalBsmtSF', 'Heating','1stFlrSF', '2ndFlrSF', 'GrLivArea', 'BsmtHalfBath', 'BedroomAbvGr','KitchenAbvGr', 'GarageArea', 'MiscVal', 'YrSold', 'SaleType','SalePrice'\n",
    "# are the columns mostly numerical ones can help more to predict prices"
   ]
  },
  {
   "cell_type": "markdown",
   "metadata": {},
   "source": [
    "# a) EDA"
   ]
  },
  {
   "cell_type": "code",
   "execution_count": 146,
   "metadata": {},
   "outputs": [
    {
     "data": {
      "text/html": [
       "<div>\n",
       "<style scoped>\n",
       "    .dataframe tbody tr th:only-of-type {\n",
       "        vertical-align: middle;\n",
       "    }\n",
       "\n",
       "    .dataframe tbody tr th {\n",
       "        vertical-align: top;\n",
       "    }\n",
       "\n",
       "    .dataframe thead th {\n",
       "        text-align: right;\n",
       "    }\n",
       "</style>\n",
       "<table border=\"1\" class=\"dataframe\">\n",
       "  <thead>\n",
       "    <tr style=\"text-align: right;\">\n",
       "      <th></th>\n",
       "      <th>Id</th>\n",
       "      <th>MSSubClass</th>\n",
       "      <th>LotFrontage</th>\n",
       "      <th>LotArea</th>\n",
       "      <th>Utilities</th>\n",
       "      <th>Neighborhood</th>\n",
       "      <th>OverallQual</th>\n",
       "      <th>OverallCond</th>\n",
       "      <th>MasVnrArea</th>\n",
       "      <th>BsmtFinSF1</th>\n",
       "      <th>...</th>\n",
       "      <th>2ndFlrSF</th>\n",
       "      <th>GrLivArea</th>\n",
       "      <th>BsmtHalfBath</th>\n",
       "      <th>BedroomAbvGr</th>\n",
       "      <th>KitchenAbvGr</th>\n",
       "      <th>GarageArea</th>\n",
       "      <th>MiscVal</th>\n",
       "      <th>YrSold</th>\n",
       "      <th>SaleType</th>\n",
       "      <th>SalePrice</th>\n",
       "    </tr>\n",
       "  </thead>\n",
       "  <tbody>\n",
       "    <tr>\n",
       "      <th>0</th>\n",
       "      <td>1</td>\n",
       "      <td>60</td>\n",
       "      <td>65.0</td>\n",
       "      <td>8450</td>\n",
       "      <td>AllPub</td>\n",
       "      <td>CollgCr</td>\n",
       "      <td>7</td>\n",
       "      <td>5</td>\n",
       "      <td>196.0</td>\n",
       "      <td>706</td>\n",
       "      <td>...</td>\n",
       "      <td>854</td>\n",
       "      <td>1710</td>\n",
       "      <td>0</td>\n",
       "      <td>3</td>\n",
       "      <td>1</td>\n",
       "      <td>548</td>\n",
       "      <td>0</td>\n",
       "      <td>2008</td>\n",
       "      <td>WD</td>\n",
       "      <td>208500</td>\n",
       "    </tr>\n",
       "    <tr>\n",
       "      <th>1</th>\n",
       "      <td>2</td>\n",
       "      <td>20</td>\n",
       "      <td>80.0</td>\n",
       "      <td>9600</td>\n",
       "      <td>AllPub</td>\n",
       "      <td>Veenker</td>\n",
       "      <td>6</td>\n",
       "      <td>8</td>\n",
       "      <td>0.0</td>\n",
       "      <td>978</td>\n",
       "      <td>...</td>\n",
       "      <td>0</td>\n",
       "      <td>1262</td>\n",
       "      <td>1</td>\n",
       "      <td>3</td>\n",
       "      <td>1</td>\n",
       "      <td>460</td>\n",
       "      <td>0</td>\n",
       "      <td>2007</td>\n",
       "      <td>WD</td>\n",
       "      <td>181500</td>\n",
       "    </tr>\n",
       "    <tr>\n",
       "      <th>2</th>\n",
       "      <td>3</td>\n",
       "      <td>60</td>\n",
       "      <td>68.0</td>\n",
       "      <td>11250</td>\n",
       "      <td>AllPub</td>\n",
       "      <td>CollgCr</td>\n",
       "      <td>7</td>\n",
       "      <td>5</td>\n",
       "      <td>162.0</td>\n",
       "      <td>486</td>\n",
       "      <td>...</td>\n",
       "      <td>866</td>\n",
       "      <td>1786</td>\n",
       "      <td>0</td>\n",
       "      <td>3</td>\n",
       "      <td>1</td>\n",
       "      <td>608</td>\n",
       "      <td>0</td>\n",
       "      <td>2008</td>\n",
       "      <td>WD</td>\n",
       "      <td>223500</td>\n",
       "    </tr>\n",
       "    <tr>\n",
       "      <th>3</th>\n",
       "      <td>4</td>\n",
       "      <td>70</td>\n",
       "      <td>60.0</td>\n",
       "      <td>9550</td>\n",
       "      <td>AllPub</td>\n",
       "      <td>Crawfor</td>\n",
       "      <td>7</td>\n",
       "      <td>5</td>\n",
       "      <td>0.0</td>\n",
       "      <td>216</td>\n",
       "      <td>...</td>\n",
       "      <td>756</td>\n",
       "      <td>1717</td>\n",
       "      <td>0</td>\n",
       "      <td>3</td>\n",
       "      <td>1</td>\n",
       "      <td>642</td>\n",
       "      <td>0</td>\n",
       "      <td>2006</td>\n",
       "      <td>WD</td>\n",
       "      <td>140000</td>\n",
       "    </tr>\n",
       "    <tr>\n",
       "      <th>4</th>\n",
       "      <td>5</td>\n",
       "      <td>60</td>\n",
       "      <td>84.0</td>\n",
       "      <td>14260</td>\n",
       "      <td>AllPub</td>\n",
       "      <td>NoRidge</td>\n",
       "      <td>8</td>\n",
       "      <td>5</td>\n",
       "      <td>350.0</td>\n",
       "      <td>655</td>\n",
       "      <td>...</td>\n",
       "      <td>1053</td>\n",
       "      <td>2198</td>\n",
       "      <td>0</td>\n",
       "      <td>4</td>\n",
       "      <td>1</td>\n",
       "      <td>836</td>\n",
       "      <td>0</td>\n",
       "      <td>2008</td>\n",
       "      <td>WD</td>\n",
       "      <td>250000</td>\n",
       "    </tr>\n",
       "  </tbody>\n",
       "</table>\n",
       "<p>5 rows × 25 columns</p>\n",
       "</div>"
      ],
      "text/plain": [
       "   Id  MSSubClass  LotFrontage  LotArea Utilities Neighborhood  OverallQual  \\\n",
       "0   1          60         65.0     8450    AllPub      CollgCr            7   \n",
       "1   2          20         80.0     9600    AllPub      Veenker            6   \n",
       "2   3          60         68.0    11250    AllPub      CollgCr            7   \n",
       "3   4          70         60.0     9550    AllPub      Crawfor            7   \n",
       "4   5          60         84.0    14260    AllPub      NoRidge            8   \n",
       "\n",
       "   OverallCond  MasVnrArea  BsmtFinSF1  ...  2ndFlrSF  GrLivArea  \\\n",
       "0            5       196.0         706  ...       854       1710   \n",
       "1            8         0.0         978  ...         0       1262   \n",
       "2            5       162.0         486  ...       866       1786   \n",
       "3            5         0.0         216  ...       756       1717   \n",
       "4            5       350.0         655  ...      1053       2198   \n",
       "\n",
       "   BsmtHalfBath BedroomAbvGr  KitchenAbvGr  GarageArea  MiscVal  YrSold  \\\n",
       "0             0            3             1         548        0    2008   \n",
       "1             1            3             1         460        0    2007   \n",
       "2             0            3             1         608        0    2008   \n",
       "3             0            3             1         642        0    2006   \n",
       "4             0            4             1         836        0    2008   \n",
       "\n",
       "   SaleType  SalePrice  \n",
       "0        WD     208500  \n",
       "1        WD     181500  \n",
       "2        WD     223500  \n",
       "3        WD     140000  \n",
       "4        WD     250000  \n",
       "\n",
       "[5 rows x 25 columns]"
      ]
     },
     "execution_count": 146,
     "metadata": {},
     "output_type": "execute_result"
    }
   ],
   "source": [
    "df.head()"
   ]
  },
  {
   "cell_type": "code",
   "execution_count": 147,
   "metadata": {},
   "outputs": [
    {
     "data": {
      "text/plain": [
       "Index(['Id', 'MSSubClass', 'LotFrontage', 'LotArea', 'Utilities',\n",
       "       'Neighborhood', 'OverallQual', 'OverallCond', 'MasVnrArea',\n",
       "       'BsmtFinSF1', 'BsmtFinSF2', 'BsmtUnfSF', 'TotalBsmtSF', 'Heating',\n",
       "       '1stFlrSF', '2ndFlrSF', 'GrLivArea', 'BsmtHalfBath', 'BedroomAbvGr',\n",
       "       'KitchenAbvGr', 'GarageArea', 'MiscVal', 'YrSold', 'SaleType',\n",
       "       'SalePrice'],\n",
       "      dtype='object')"
      ]
     },
     "execution_count": 147,
     "metadata": {},
     "output_type": "execute_result"
    }
   ],
   "source": [
    "df.columns"
   ]
  },
  {
   "cell_type": "code",
   "execution_count": 148,
   "metadata": {},
   "outputs": [
    {
     "data": {
      "text/plain": [
       "Id                0\n",
       "MSSubClass        0\n",
       "LotFrontage     259\n",
       "LotArea           0\n",
       "Utilities         0\n",
       "Neighborhood      0\n",
       "OverallQual       0\n",
       "OverallCond       0\n",
       "MasVnrArea        8\n",
       "BsmtFinSF1        0\n",
       "BsmtFinSF2        0\n",
       "BsmtUnfSF         0\n",
       "TotalBsmtSF       0\n",
       "Heating           0\n",
       "1stFlrSF          0\n",
       "2ndFlrSF          0\n",
       "GrLivArea         0\n",
       "BsmtHalfBath      0\n",
       "BedroomAbvGr      0\n",
       "KitchenAbvGr      0\n",
       "GarageArea        0\n",
       "MiscVal           0\n",
       "YrSold            0\n",
       "SaleType          0\n",
       "SalePrice         0\n",
       "dtype: int64"
      ]
     },
     "execution_count": 148,
     "metadata": {},
     "output_type": "execute_result"
    }
   ],
   "source": [
    "df.isnull().sum()"
   ]
  },
  {
   "cell_type": "code",
   "execution_count": 149,
   "metadata": {},
   "outputs": [
    {
     "data": {
      "text/html": [
       "<div>\n",
       "<style scoped>\n",
       "    .dataframe tbody tr th:only-of-type {\n",
       "        vertical-align: middle;\n",
       "    }\n",
       "\n",
       "    .dataframe tbody tr th {\n",
       "        vertical-align: top;\n",
       "    }\n",
       "\n",
       "    .dataframe thead th {\n",
       "        text-align: right;\n",
       "    }\n",
       "</style>\n",
       "<table border=\"1\" class=\"dataframe\">\n",
       "  <thead>\n",
       "    <tr style=\"text-align: right;\">\n",
       "      <th></th>\n",
       "      <th>count</th>\n",
       "      <th>mean</th>\n",
       "      <th>std</th>\n",
       "      <th>min</th>\n",
       "      <th>25%</th>\n",
       "      <th>50%</th>\n",
       "      <th>75%</th>\n",
       "      <th>max</th>\n",
       "    </tr>\n",
       "  </thead>\n",
       "  <tbody>\n",
       "    <tr>\n",
       "      <th>Id</th>\n",
       "      <td>1460.0</td>\n",
       "      <td>730.500000</td>\n",
       "      <td>421.610009</td>\n",
       "      <td>1.0</td>\n",
       "      <td>365.75</td>\n",
       "      <td>730.5</td>\n",
       "      <td>1095.25</td>\n",
       "      <td>1460.0</td>\n",
       "    </tr>\n",
       "    <tr>\n",
       "      <th>MSSubClass</th>\n",
       "      <td>1460.0</td>\n",
       "      <td>56.897260</td>\n",
       "      <td>42.300571</td>\n",
       "      <td>20.0</td>\n",
       "      <td>20.00</td>\n",
       "      <td>50.0</td>\n",
       "      <td>70.00</td>\n",
       "      <td>190.0</td>\n",
       "    </tr>\n",
       "    <tr>\n",
       "      <th>LotFrontage</th>\n",
       "      <td>1201.0</td>\n",
       "      <td>70.049958</td>\n",
       "      <td>24.284752</td>\n",
       "      <td>21.0</td>\n",
       "      <td>59.00</td>\n",
       "      <td>69.0</td>\n",
       "      <td>80.00</td>\n",
       "      <td>313.0</td>\n",
       "    </tr>\n",
       "    <tr>\n",
       "      <th>LotArea</th>\n",
       "      <td>1460.0</td>\n",
       "      <td>10516.828082</td>\n",
       "      <td>9981.264932</td>\n",
       "      <td>1300.0</td>\n",
       "      <td>7553.50</td>\n",
       "      <td>9478.5</td>\n",
       "      <td>11601.50</td>\n",
       "      <td>215245.0</td>\n",
       "    </tr>\n",
       "    <tr>\n",
       "      <th>OverallQual</th>\n",
       "      <td>1460.0</td>\n",
       "      <td>6.099315</td>\n",
       "      <td>1.382997</td>\n",
       "      <td>1.0</td>\n",
       "      <td>5.00</td>\n",
       "      <td>6.0</td>\n",
       "      <td>7.00</td>\n",
       "      <td>10.0</td>\n",
       "    </tr>\n",
       "    <tr>\n",
       "      <th>OverallCond</th>\n",
       "      <td>1460.0</td>\n",
       "      <td>5.575342</td>\n",
       "      <td>1.112799</td>\n",
       "      <td>1.0</td>\n",
       "      <td>5.00</td>\n",
       "      <td>5.0</td>\n",
       "      <td>6.00</td>\n",
       "      <td>9.0</td>\n",
       "    </tr>\n",
       "    <tr>\n",
       "      <th>MasVnrArea</th>\n",
       "      <td>1452.0</td>\n",
       "      <td>103.685262</td>\n",
       "      <td>181.066207</td>\n",
       "      <td>0.0</td>\n",
       "      <td>0.00</td>\n",
       "      <td>0.0</td>\n",
       "      <td>166.00</td>\n",
       "      <td>1600.0</td>\n",
       "    </tr>\n",
       "    <tr>\n",
       "      <th>BsmtFinSF1</th>\n",
       "      <td>1460.0</td>\n",
       "      <td>443.639726</td>\n",
       "      <td>456.098091</td>\n",
       "      <td>0.0</td>\n",
       "      <td>0.00</td>\n",
       "      <td>383.5</td>\n",
       "      <td>712.25</td>\n",
       "      <td>5644.0</td>\n",
       "    </tr>\n",
       "    <tr>\n",
       "      <th>BsmtFinSF2</th>\n",
       "      <td>1460.0</td>\n",
       "      <td>46.549315</td>\n",
       "      <td>161.319273</td>\n",
       "      <td>0.0</td>\n",
       "      <td>0.00</td>\n",
       "      <td>0.0</td>\n",
       "      <td>0.00</td>\n",
       "      <td>1474.0</td>\n",
       "    </tr>\n",
       "    <tr>\n",
       "      <th>BsmtUnfSF</th>\n",
       "      <td>1460.0</td>\n",
       "      <td>567.240411</td>\n",
       "      <td>441.866955</td>\n",
       "      <td>0.0</td>\n",
       "      <td>223.00</td>\n",
       "      <td>477.5</td>\n",
       "      <td>808.00</td>\n",
       "      <td>2336.0</td>\n",
       "    </tr>\n",
       "    <tr>\n",
       "      <th>TotalBsmtSF</th>\n",
       "      <td>1460.0</td>\n",
       "      <td>1057.429452</td>\n",
       "      <td>438.705324</td>\n",
       "      <td>0.0</td>\n",
       "      <td>795.75</td>\n",
       "      <td>991.5</td>\n",
       "      <td>1298.25</td>\n",
       "      <td>6110.0</td>\n",
       "    </tr>\n",
       "    <tr>\n",
       "      <th>1stFlrSF</th>\n",
       "      <td>1460.0</td>\n",
       "      <td>1162.626712</td>\n",
       "      <td>386.587738</td>\n",
       "      <td>334.0</td>\n",
       "      <td>882.00</td>\n",
       "      <td>1087.0</td>\n",
       "      <td>1391.25</td>\n",
       "      <td>4692.0</td>\n",
       "    </tr>\n",
       "    <tr>\n",
       "      <th>2ndFlrSF</th>\n",
       "      <td>1460.0</td>\n",
       "      <td>346.992466</td>\n",
       "      <td>436.528436</td>\n",
       "      <td>0.0</td>\n",
       "      <td>0.00</td>\n",
       "      <td>0.0</td>\n",
       "      <td>728.00</td>\n",
       "      <td>2065.0</td>\n",
       "    </tr>\n",
       "    <tr>\n",
       "      <th>GrLivArea</th>\n",
       "      <td>1460.0</td>\n",
       "      <td>1515.463699</td>\n",
       "      <td>525.480383</td>\n",
       "      <td>334.0</td>\n",
       "      <td>1129.50</td>\n",
       "      <td>1464.0</td>\n",
       "      <td>1776.75</td>\n",
       "      <td>5642.0</td>\n",
       "    </tr>\n",
       "    <tr>\n",
       "      <th>BsmtHalfBath</th>\n",
       "      <td>1460.0</td>\n",
       "      <td>0.057534</td>\n",
       "      <td>0.238753</td>\n",
       "      <td>0.0</td>\n",
       "      <td>0.00</td>\n",
       "      <td>0.0</td>\n",
       "      <td>0.00</td>\n",
       "      <td>2.0</td>\n",
       "    </tr>\n",
       "    <tr>\n",
       "      <th>BedroomAbvGr</th>\n",
       "      <td>1460.0</td>\n",
       "      <td>2.866438</td>\n",
       "      <td>0.815778</td>\n",
       "      <td>0.0</td>\n",
       "      <td>2.00</td>\n",
       "      <td>3.0</td>\n",
       "      <td>3.00</td>\n",
       "      <td>8.0</td>\n",
       "    </tr>\n",
       "    <tr>\n",
       "      <th>KitchenAbvGr</th>\n",
       "      <td>1460.0</td>\n",
       "      <td>1.046575</td>\n",
       "      <td>0.220338</td>\n",
       "      <td>0.0</td>\n",
       "      <td>1.00</td>\n",
       "      <td>1.0</td>\n",
       "      <td>1.00</td>\n",
       "      <td>3.0</td>\n",
       "    </tr>\n",
       "    <tr>\n",
       "      <th>GarageArea</th>\n",
       "      <td>1460.0</td>\n",
       "      <td>472.980137</td>\n",
       "      <td>213.804841</td>\n",
       "      <td>0.0</td>\n",
       "      <td>334.50</td>\n",
       "      <td>480.0</td>\n",
       "      <td>576.00</td>\n",
       "      <td>1418.0</td>\n",
       "    </tr>\n",
       "    <tr>\n",
       "      <th>MiscVal</th>\n",
       "      <td>1460.0</td>\n",
       "      <td>43.489041</td>\n",
       "      <td>496.123024</td>\n",
       "      <td>0.0</td>\n",
       "      <td>0.00</td>\n",
       "      <td>0.0</td>\n",
       "      <td>0.00</td>\n",
       "      <td>15500.0</td>\n",
       "    </tr>\n",
       "    <tr>\n",
       "      <th>YrSold</th>\n",
       "      <td>1460.0</td>\n",
       "      <td>2007.815753</td>\n",
       "      <td>1.328095</td>\n",
       "      <td>2006.0</td>\n",
       "      <td>2007.00</td>\n",
       "      <td>2008.0</td>\n",
       "      <td>2009.00</td>\n",
       "      <td>2010.0</td>\n",
       "    </tr>\n",
       "    <tr>\n",
       "      <th>SalePrice</th>\n",
       "      <td>1460.0</td>\n",
       "      <td>180921.195890</td>\n",
       "      <td>79442.502883</td>\n",
       "      <td>34900.0</td>\n",
       "      <td>129975.00</td>\n",
       "      <td>163000.0</td>\n",
       "      <td>214000.00</td>\n",
       "      <td>755000.0</td>\n",
       "    </tr>\n",
       "  </tbody>\n",
       "</table>\n",
       "</div>"
      ],
      "text/plain": [
       "               count           mean           std      min        25%  \\\n",
       "Id            1460.0     730.500000    421.610009      1.0     365.75   \n",
       "MSSubClass    1460.0      56.897260     42.300571     20.0      20.00   \n",
       "LotFrontage   1201.0      70.049958     24.284752     21.0      59.00   \n",
       "LotArea       1460.0   10516.828082   9981.264932   1300.0    7553.50   \n",
       "OverallQual   1460.0       6.099315      1.382997      1.0       5.00   \n",
       "OverallCond   1460.0       5.575342      1.112799      1.0       5.00   \n",
       "MasVnrArea    1452.0     103.685262    181.066207      0.0       0.00   \n",
       "BsmtFinSF1    1460.0     443.639726    456.098091      0.0       0.00   \n",
       "BsmtFinSF2    1460.0      46.549315    161.319273      0.0       0.00   \n",
       "BsmtUnfSF     1460.0     567.240411    441.866955      0.0     223.00   \n",
       "TotalBsmtSF   1460.0    1057.429452    438.705324      0.0     795.75   \n",
       "1stFlrSF      1460.0    1162.626712    386.587738    334.0     882.00   \n",
       "2ndFlrSF      1460.0     346.992466    436.528436      0.0       0.00   \n",
       "GrLivArea     1460.0    1515.463699    525.480383    334.0    1129.50   \n",
       "BsmtHalfBath  1460.0       0.057534      0.238753      0.0       0.00   \n",
       "BedroomAbvGr  1460.0       2.866438      0.815778      0.0       2.00   \n",
       "KitchenAbvGr  1460.0       1.046575      0.220338      0.0       1.00   \n",
       "GarageArea    1460.0     472.980137    213.804841      0.0     334.50   \n",
       "MiscVal       1460.0      43.489041    496.123024      0.0       0.00   \n",
       "YrSold        1460.0    2007.815753      1.328095   2006.0    2007.00   \n",
       "SalePrice     1460.0  180921.195890  79442.502883  34900.0  129975.00   \n",
       "\n",
       "                   50%        75%       max  \n",
       "Id               730.5    1095.25    1460.0  \n",
       "MSSubClass        50.0      70.00     190.0  \n",
       "LotFrontage       69.0      80.00     313.0  \n",
       "LotArea         9478.5   11601.50  215245.0  \n",
       "OverallQual        6.0       7.00      10.0  \n",
       "OverallCond        5.0       6.00       9.0  \n",
       "MasVnrArea         0.0     166.00    1600.0  \n",
       "BsmtFinSF1       383.5     712.25    5644.0  \n",
       "BsmtFinSF2         0.0       0.00    1474.0  \n",
       "BsmtUnfSF        477.5     808.00    2336.0  \n",
       "TotalBsmtSF      991.5    1298.25    6110.0  \n",
       "1stFlrSF        1087.0    1391.25    4692.0  \n",
       "2ndFlrSF           0.0     728.00    2065.0  \n",
       "GrLivArea       1464.0    1776.75    5642.0  \n",
       "BsmtHalfBath       0.0       0.00       2.0  \n",
       "BedroomAbvGr       3.0       3.00       8.0  \n",
       "KitchenAbvGr       1.0       1.00       3.0  \n",
       "GarageArea       480.0     576.00    1418.0  \n",
       "MiscVal            0.0       0.00   15500.0  \n",
       "YrSold          2008.0    2009.00    2010.0  \n",
       "SalePrice     163000.0  214000.00  755000.0  "
      ]
     },
     "execution_count": 149,
     "metadata": {},
     "output_type": "execute_result"
    }
   ],
   "source": [
    "df.describe().T"
   ]
  },
  {
   "cell_type": "code",
   "execution_count": 150,
   "metadata": {},
   "outputs": [
    {
     "name": "stdout",
     "output_type": "stream",
     "text": [
      "<class 'pandas.core.frame.DataFrame'>\n",
      "RangeIndex: 1460 entries, 0 to 1459\n",
      "Data columns (total 25 columns):\n",
      " #   Column        Non-Null Count  Dtype  \n",
      "---  ------        --------------  -----  \n",
      " 0   Id            1460 non-null   int64  \n",
      " 1   MSSubClass    1460 non-null   int64  \n",
      " 2   LotFrontage   1201 non-null   float64\n",
      " 3   LotArea       1460 non-null   int64  \n",
      " 4   Utilities     1460 non-null   object \n",
      " 5   Neighborhood  1460 non-null   object \n",
      " 6   OverallQual   1460 non-null   int64  \n",
      " 7   OverallCond   1460 non-null   int64  \n",
      " 8   MasVnrArea    1452 non-null   float64\n",
      " 9   BsmtFinSF1    1460 non-null   int64  \n",
      " 10  BsmtFinSF2    1460 non-null   int64  \n",
      " 11  BsmtUnfSF     1460 non-null   int64  \n",
      " 12  TotalBsmtSF   1460 non-null   int64  \n",
      " 13  Heating       1460 non-null   object \n",
      " 14  1stFlrSF      1460 non-null   int64  \n",
      " 15  2ndFlrSF      1460 non-null   int64  \n",
      " 16  GrLivArea     1460 non-null   int64  \n",
      " 17  BsmtHalfBath  1460 non-null   int64  \n",
      " 18  BedroomAbvGr  1460 non-null   int64  \n",
      " 19  KitchenAbvGr  1460 non-null   int64  \n",
      " 20  GarageArea    1460 non-null   int64  \n",
      " 21  MiscVal       1460 non-null   int64  \n",
      " 22  YrSold        1460 non-null   int64  \n",
      " 23  SaleType      1460 non-null   object \n",
      " 24  SalePrice     1460 non-null   int64  \n",
      "dtypes: float64(2), int64(19), object(4)\n",
      "memory usage: 285.3+ KB\n"
     ]
    }
   ],
   "source": [
    "df.info()"
   ]
  },
  {
   "cell_type": "code",
   "execution_count": 151,
   "metadata": {},
   "outputs": [
    {
     "data": {
      "text/plain": [
       "Id                int64\n",
       "MSSubClass        int64\n",
       "LotFrontage     float64\n",
       "LotArea           int64\n",
       "Utilities        object\n",
       "Neighborhood     object\n",
       "OverallQual       int64\n",
       "OverallCond       int64\n",
       "MasVnrArea      float64\n",
       "BsmtFinSF1        int64\n",
       "BsmtFinSF2        int64\n",
       "BsmtUnfSF         int64\n",
       "TotalBsmtSF       int64\n",
       "Heating          object\n",
       "1stFlrSF          int64\n",
       "2ndFlrSF          int64\n",
       "GrLivArea         int64\n",
       "BsmtHalfBath      int64\n",
       "BedroomAbvGr      int64\n",
       "KitchenAbvGr      int64\n",
       "GarageArea        int64\n",
       "MiscVal           int64\n",
       "YrSold            int64\n",
       "SaleType         object\n",
       "SalePrice         int64\n",
       "dtype: object"
      ]
     },
     "execution_count": 151,
     "metadata": {},
     "output_type": "execute_result"
    }
   ],
   "source": [
    "df.dtypes"
   ]
  },
  {
   "cell_type": "code",
   "execution_count": 152,
   "metadata": {},
   "outputs": [
    {
     "data": {
      "text/plain": [
       "<matplotlib.axes._subplots.AxesSubplot at 0x1768cc947f0>"
      ]
     },
     "execution_count": 152,
     "metadata": {},
     "output_type": "execute_result"
    },
    {
     "data": {
      "image/png": "[encoded data removed]",
      "text/plain": [
       "<Figure size 432x288 with 1 Axes>"
      ]
     },
     "metadata": {
      "needs_background": "light"
     },
     "output_type": "display_data"
    }
   ],
   "source": [
    "sns.barplot(x='KitchenAbvGr',y=\"SalePrice\",hue='YrSold',data=df)"
   ]
  },
  {
   "cell_type": "code",
   "execution_count": 153,
   "metadata": {},
   "outputs": [],
   "source": [
    "#House prices between 2006-2010 regarding number of kitchens"
   ]
  },
  {
   "cell_type": "code",
   "execution_count": 154,
   "metadata": {},
   "outputs": [
    {
     "data": {
      "text/plain": [
       "<matplotlib.axes._subplots.AxesSubplot at 0x1768cb74a60>"
      ]
     },
     "execution_count": 154,
     "metadata": {},
     "output_type": "execute_result"
    },
    {
     "data": {
      "image/png": "[encoded data removed]",
      "text/plain": [
       "<Figure size 432x288 with 1 Axes>"
      ]
     },
     "metadata": {
      "needs_background": "light"
     },
     "output_type": "display_data"
    }
   ],
   "source": [
    "sns.distplot(df['SalePrice'])"
   ]
  },
  {
   "cell_type": "code",
   "execution_count": 155,
   "metadata": {},
   "outputs": [],
   "source": [
    "#The 'SalePrice' is dense between 100k and 250k, but there are larger outliers on the right side,the expensive price range"
   ]
  },
  {
   "cell_type": "code",
   "execution_count": 156,
   "metadata": {},
   "outputs": [
    {
     "data": {
      "text/plain": [
       "<matplotlib.axes._subplots.AxesSubplot at 0x1768cc71f40>"
      ]
     },
     "execution_count": 156,
     "metadata": {},
     "output_type": "execute_result"
    },
    {
     "data": {
      "image/png": "[encoded data removed]",
      "text/plain": [
       "<Figure size 432x288 with 1 Axes>"
      ]
     },
     "metadata": {
      "needs_background": "light"
     },
     "output_type": "display_data"
    }
   ],
   "source": [
    "df.plot.scatter(x='GrLivArea',y='SalePrice')"
   ]
  },
  {
   "cell_type": "code",
   "execution_count": 157,
   "metadata": {},
   "outputs": [],
   "source": [
    "#It is generally expected that larger living area comes with higher price. This chart shows thats generally true. But there are some 2–3 “cheap” houses with large living area "
   ]
  },
  {
   "cell_type": "code",
   "execution_count": 158,
   "metadata": {},
   "outputs": [
    {
     "data": {
      "image/png": "[encoded data removed]",
      "text/plain": [
       "<Figure size 1008x576 with 1 Axes>"
      ]
     },
     "metadata": {
      "needs_background": "light"
     },
     "output_type": "display_data"
    }
   ],
   "source": [
    "f, ax = plt.subplots(figsize=(14, 8))\n",
    "fig=sns.boxplot(x='OverallQual',y='SalePrice',hue='SaleType',data=df)"
   ]
  },
  {
   "cell_type": "code",
   "execution_count": 159,
   "metadata": {},
   "outputs": [],
   "source": [
    "#From the boxplot above when overal quality is high saleprice is also high but for different sale types it depends"
   ]
  },
  {
   "cell_type": "code",
   "execution_count": 160,
   "metadata": {},
   "outputs": [
    {
     "data": {
      "text/plain": [
       "<matplotlib.axes._subplots.AxesSubplot at 0x1768cd7edc0>"
      ]
     },
     "execution_count": 160,
     "metadata": {},
     "output_type": "execute_result"
    },
    {
     "data": {
      "image/png": "[encoded data removed]",
      "text/plain": [
       "<Figure size 432x288 with 1 Axes>"
      ]
     },
     "metadata": {
      "needs_background": "light"
     },
     "output_type": "display_data"
    }
   ],
   "source": [
    "sns.scatterplot(x='BedroomAbvGr',y='SalePrice',hue='Heating',data=df)"
   ]
  },
  {
   "cell_type": "code",
   "execution_count": 161,
   "metadata": {},
   "outputs": [
    {
     "data": {
      "text/plain": [
       "<matplotlib.axes._subplots.AxesSubplot at 0x1768e289fa0>"
      ]
     },
     "execution_count": 161,
     "metadata": {},
     "output_type": "execute_result"
    },
    {
     "data": {
      "image/png": "[encoded data removed]",
      "text/plain": [
       "<Figure size 432x288 with 1 Axes>"
      ]
     },
     "metadata": {
      "needs_background": "light"
     },
     "output_type": "display_data"
    }
   ],
   "source": [
    "sns.violinplot(x='SaleType',y='SalePrice',data=df)"
   ]
  },
  {
   "cell_type": "code",
   "execution_count": null,
   "metadata": {},
   "outputs": [],
   "source": []
  },
  {
   "cell_type": "code",
   "execution_count": null,
   "metadata": {},
   "outputs": [],
   "source": []
  },
  {
   "cell_type": "markdown",
   "metadata": {},
   "source": [
    "# b,c,d)GridSearchCV"
   ]
  },
  {
   "cell_type": "code",
   "execution_count": 162,
   "metadata": {},
   "outputs": [],
   "source": [
    "X=df[['MSSubClass', 'LotFrontage', 'LotArea', 'Utilities',\n",
    "       'Neighborhood', 'OverallQual', 'OverallCond', 'MasVnrArea',\n",
    "       'BsmtFinSF1', 'BsmtFinSF2', 'BsmtUnfSF', 'TotalBsmtSF', 'Heating',\n",
    "       '1stFlrSF', '2ndFlrSF', 'GrLivArea', 'BsmtHalfBath', 'BedroomAbvGr',\n",
    "       'KitchenAbvGr', 'GarageArea', 'MiscVal','YrSold','SaleType']]\n",
    "y=df['SalePrice']\n"
   ]
  },
  {
   "cell_type": "code",
   "execution_count": 163,
   "metadata": {},
   "outputs": [],
   "source": [
    "from sklearn.model_selection import GridSearchCV\n",
    "from sklearn.neighbors import KNeighborsRegressor\n",
    "from sklearn.model_selection import KFold\n",
    "from sklearn.pipeline import Pipeline\n",
    "from sklearn.impute import SimpleImputer\n",
    "from sklearn.preprocessing import OneHotEncoder,LabelEncoder\n",
    "from sklearn.preprocessing import StandardScaler\n",
    "from sklearn.compose import ColumnTransformer\n",
    "from sklearn.metrics import mean_squared_error"
   ]
  },
  {
   "cell_type": "code",
   "execution_count": 164,
   "metadata": {},
   "outputs": [],
   "source": [
    "numeric_transformer = Pipeline(steps=[\n",
    "    ('impute', SimpleImputer(strategy='mean')),\n",
    "    ('scaler', StandardScaler())\n",
    "])\n",
    "\n",
    "categorical_transformer = Pipeline(steps=[\n",
    "    ('impute', SimpleImputer(strategy='most_frequent')),\n",
    "    ('one_hot_encoding', OneHotEncoder(handle_unknown='ignore'))\n",
    "])\n",
    "\n",
    "column_transformer = ColumnTransformer(transformers=[\n",
    "    ('numeric', numeric_transformer, [ 'MSSubClass', 'LotFrontage', 'LotArea', 'OverallQual', 'OverallCond', 'MasVnrArea',\n",
    "       'BsmtFinSF1', 'BsmtFinSF2', 'BsmtUnfSF', 'TotalBsmtSF',\n",
    "       '1stFlrSF', '2ndFlrSF', 'GrLivArea', 'BsmtHalfBath', 'BedroomAbvGr',\n",
    "       'KitchenAbvGr', 'GarageArea', 'MiscVal','YrSold']),\n",
    "    ('categorical', categorical_transformer, [ 'Heating', 'Utilities', 'Neighborhood','SaleType'])\n",
    "])\n",
    "\n",
    "model=Pipeline(steps=[\n",
    "    ('preprocessing', column_transformer),\n",
    "    ('regressor', KNeighborsRegressor())\n",
    "])"
   ]
  },
  {
   "cell_type": "code",
   "execution_count": 210,
   "metadata": {},
   "outputs": [],
   "source": [
    "\n",
    "param_space={\n",
    "    'regressor__n_neighbors':range(5,57,2)\n",
    "}"
   ]
  },
  {
   "cell_type": "code",
   "execution_count": 211,
   "metadata": {},
   "outputs": [],
   "source": [
    "gridsearch=GridSearchCV(model,param_space,cv=5)"
   ]
  },
  {
   "cell_type": "code",
   "execution_count": 212,
   "metadata": {},
   "outputs": [],
   "source": [
    "from sklearn.model_selection import train_test_split"
   ]
  },
  {
   "cell_type": "code",
   "execution_count": 213,
   "metadata": {},
   "outputs": [],
   "source": [
    "X_train,X_test,y_train,y_test=train_test_split(X,y)"
   ]
  },
  {
   "cell_type": "code",
   "execution_count": 214,
   "metadata": {},
   "outputs": [
    {
     "data": {
      "text/plain": [
       "GridSearchCV(cv=5,\n",
       "             estimator=Pipeline(steps=[('preprocessing',\n",
       "                                        ColumnTransformer(transformers=[('numeric',\n",
       "                                                                         Pipeline(steps=[('impute',\n",
       "                                                                                          SimpleImputer()),\n",
       "                                                                                         ('scaler',\n",
       "                                                                                          StandardScaler())]),\n",
       "                                                                         ['MSSubClass',\n",
       "                                                                          'LotFrontage',\n",
       "                                                                          'LotArea',\n",
       "                                                                          'OverallQual',\n",
       "                                                                          'OverallCond',\n",
       "                                                                          'MasVnrArea',\n",
       "                                                                          'BsmtFinSF1',\n",
       "                                                                          'BsmtFinSF2',\n",
       "                                                                          'BsmtUnfSF',\n",
       "                                                                          'TotalBsmtSF',\n",
       "                                                                          '1stFlrSF',\n",
       "                                                                          '2ndFlrSF',\n",
       "                                                                          'GrLivArea',\n",
       "                                                                          'BsmtHal...\n",
       "                                                                          'BedroomAbvGr',\n",
       "                                                                          'KitchenAbvGr',\n",
       "                                                                          'GarageArea',\n",
       "                                                                          'MiscVal',\n",
       "                                                                          'YrSold']),\n",
       "                                                                        ('categorical',\n",
       "                                                                         Pipeline(steps=[('impute',\n",
       "                                                                                          SimpleImputer(strategy='most_frequent')),\n",
       "                                                                                         ('one_hot_encoding',\n",
       "                                                                                          OneHotEncoder(handle_unknown='ignore'))]),\n",
       "                                                                         ['Heating',\n",
       "                                                                          'Utilities',\n",
       "                                                                          'Neighborhood',\n",
       "                                                                          'SaleType'])])),\n",
       "                                       ('regressor', KNeighborsRegressor())]),\n",
       "             param_grid={'regressor__n_neighbors': range(5, 57, 2)})"
      ]
     },
     "execution_count": 214,
     "metadata": {},
     "output_type": "execute_result"
    }
   ],
   "source": [
    "gridsearch.fit(X_train,y_train)"
   ]
  },
  {
   "cell_type": "code",
   "execution_count": 215,
   "metadata": {},
   "outputs": [
    {
     "name": "stdout",
     "output_type": "stream",
     "text": [
      "1263954659.315542\n"
     ]
    }
   ],
   "source": [
    "from math import sqrt\n",
    "\n",
    "mse = mean_squared_error(y_test,gridsearch.best_estimator_.predict(X_test))\n",
    "print(mse)"
   ]
  },
  {
   "cell_type": "code",
   "execution_count": 216,
   "metadata": {},
   "outputs": [
    {
     "data": {
      "text/plain": [
       "<matplotlib.axes._subplots.AxesSubplot at 0x1768de4c910>"
      ]
     },
     "execution_count": 216,
     "metadata": {},
     "output_type": "execute_result"
    },
    {
     "data": {
      "image/png": "[encoded data removed]",
      "text/plain": [
       "<Figure size 432x288 with 1 Axes>"
      ]
     },
     "metadata": {
      "needs_background": "light"
     },
     "output_type": "display_data"
    }
   ],
   "source": [
    "sns.distplot(y_train)"
   ]
  },
  {
   "cell_type": "code",
   "execution_count": 217,
   "metadata": {},
   "outputs": [
    {
     "data": {
      "text/plain": [
       "<matplotlib.axes._subplots.AxesSubplot at 0x1768daaa700>"
      ]
     },
     "execution_count": 217,
     "metadata": {},
     "output_type": "execute_result"
    },
    {
     "data": {
      "image/png": "[encoded data removed]",
      "text/plain": [
       "<Figure size 432x288 with 1 Axes>"
      ]
     },
     "metadata": {
      "needs_background": "light"
     },
     "output_type": "display_data"
    }
   ],
   "source": [
    "sns.distplot(y_test)"
   ]
  },
  {
   "cell_type": "code",
   "execution_count": 218,
   "metadata": {},
   "outputs": [
    {
     "data": {
      "text/plain": [
       "array([234738.22222222, 128000.        , 317116.22222222, 137250.22222222,\n",
       "       174341.66666667, 135211.11111111, 305055.55555556, 350801.11111111,\n",
       "       247208.        , 265365.55555556, 191883.33333333, 186377.77777778,\n",
       "       148077.77777778, 108470.33333333, 168794.66666667, 281906.22222222,\n",
       "       167377.77777778, 209294.44444444, 221583.33333333, 159455.55555556,\n",
       "       182155.22222222, 168600.        , 227890.33333333, 205255.55555556,\n",
       "       128100.        , 124333.33333333, 134977.77777778, 151661.11111111,\n",
       "       297222.22222222, 137973.33333333, 165861.11111111, 131161.11111111,\n",
       "       127461.11111111, 195333.33333333, 282751.11111111, 149977.77777778,\n",
       "       176634.11111111, 155344.44444444,  90433.33333333, 126772.55555556,\n",
       "       214244.44444444, 106611.11111111, 226833.33333333, 187005.55555556,\n",
       "       247166.66666667, 205988.88888889, 143816.66666667, 136619.44444444,\n",
       "       112334.22222222, 137900.        , 153700.        , 137600.        ,\n",
       "       177219.11111111, 151344.44444444, 208544.44444444, 155577.77777778,\n",
       "       208966.66666667, 148605.55555556, 211222.22222222, 209166.66666667,\n",
       "       153666.66666667, 190099.44444444, 192933.33333333, 186696.33333333,\n",
       "       280885.55555556, 116544.44444444, 207761.11111111, 199666.66666667,\n",
       "       373628.55555556, 107375.55555556, 182555.55555556, 190155.55555556,\n",
       "       195966.66666667, 145144.44444444, 146766.66666667, 151222.22222222,\n",
       "       139166.66666667, 263565.55555556, 121705.55555556, 159166.66666667,\n",
       "        85433.33333333, 113966.66666667, 147100.        , 110700.        ,\n",
       "       144266.66666667, 221433.33333333, 207876.55555556, 155655.55555556,\n",
       "       202266.66666667, 257581.22222222, 147452.77777778,  95977.77777778,\n",
       "       206755.55555556, 208866.66666667, 137422.22222222, 114288.88888889,\n",
       "       288550.        , 141211.11111111, 111464.44444444,  75288.88888889,\n",
       "       178725.77777778, 203577.77777778, 291600.        , 367216.44444444,\n",
       "       133416.66666667, 160920.55555556, 152866.66666667, 130655.55555556,\n",
       "       214998.55555556, 144216.88888889, 111608.88888889, 107522.22222222,\n",
       "       134000.        , 143933.33333333, 121355.55555556, 131961.11111111,\n",
       "        93666.66666667,  95641.        , 234822.22222222, 202250.        ,\n",
       "       137600.        , 195155.55555556, 177211.11111111, 150611.11111111,\n",
       "       129488.88888889, 175250.        , 100055.55555556, 124111.11111111,\n",
       "       232331.11111111, 143775.        , 133155.55555556, 137127.77777778,\n",
       "       133527.77777778, 189044.44444444, 193088.88888889, 310216.66666667,\n",
       "       222888.88888889, 178077.77777778, 288134.77777778, 314330.        ,\n",
       "       158722.22222222, 198300.        , 264288.88888889, 100944.44444444,\n",
       "       193916.66666667,  97677.77777778, 137514.77777778, 152877.77777778,\n",
       "       183033.33333333, 200307.66666667, 139977.77777778, 114444.44444444,\n",
       "       194633.88888889, 135255.55555556,  97500.        , 110967.88888889,\n",
       "       315417.88888889, 126244.44444444, 169296.88888889, 139894.44444444,\n",
       "       107575.55555556, 359661.11111111, 244111.11111111, 126683.33333333,\n",
       "       146916.66666667, 163722.22222222, 131377.77777778, 175711.11111111,\n",
       "       107700.        , 346770.33333333, 174657.44444444,  90277.77777778,\n",
       "       144216.88888889, 226294.44444444, 194166.66666667, 244565.55555556,\n",
       "       161150.        , 104806.44444444, 345541.33333333, 134766.66666667,\n",
       "       136825.        , 179148.        , 199111.11111111, 184133.33333333,\n",
       "       190172.22222222, 129844.44444444, 190691.66666667, 120857.44444444,\n",
       "       152111.11111111, 214197.55555556, 333883.22222222, 245534.77777778,\n",
       "       124877.77777778, 163005.55555556, 191200.        , 168808.33333333,\n",
       "       233393.33333333, 286500.        , 174000.        , 128817.55555556,\n",
       "       130751.11111111, 128822.22222222, 144655.55555556, 135833.88888889,\n",
       "       564849.77777778, 233544.44444444, 118236.66666667, 124811.11111111,\n",
       "       125127.77777778, 128194.44444444, 193227.77777778, 161155.55555556,\n",
       "       148577.77777778, 166488.88888889, 154500.        , 188344.44444444,\n",
       "       135613.88888889, 296111.11111111, 323295.66666667, 183625.        ,\n",
       "       134666.66666667, 124944.44444444, 192822.22222222, 294575.88888889,\n",
       "       151269.44444444, 225333.33333333, 109543.66666667, 186211.11111111,\n",
       "       128866.66666667, 133505.55555556, 143288.88888889, 197691.        ,\n",
       "        83054.77777778,  94944.44444444, 180844.44444444, 120473.11111111,\n",
       "       248441.88888889, 110858.88888889, 306777.77777778, 226740.88888889,\n",
       "       148100.        , 144166.66666667, 179466.66666667,  93766.66666667,\n",
       "       134722.22222222, 294295.11111111, 123216.66666667, 119514.77777778,\n",
       "       134772.22222222, 133944.44444444, 142773.33333333, 295108.44444444,\n",
       "       220697.55555556, 218200.        , 229211.11111111, 187922.22222222,\n",
       "       206414.88888889, 136389.44444444, 155766.66666667, 131833.33333333,\n",
       "       165838.44444444, 223815.88888889, 151730.55555556, 116008.44444444,\n",
       "       225877.77777778, 177915.55555556, 223600.        , 185847.77777778,\n",
       "       126333.33333333, 133066.66666667, 116666.66666667, 146833.33333333,\n",
       "       134544.44444444, 136711.11111111, 336717.        ,  92650.        ,\n",
       "       153211.11111111, 121200.        , 231236.44444444, 178822.22222222,\n",
       "       169277.77777778, 155214.77777778, 276376.22222222, 190488.88888889,\n",
       "       161016.66666667, 136136.88888889, 126848.11111111, 153944.44444444,\n",
       "       120075.88888889, 125873.11111111, 151196.88888889, 218666.66666667,\n",
       "       221100.        , 177800.55555556, 150386.11111111, 209183.33333333,\n",
       "       225155.55555556, 144405.55555556,  96277.        , 141772.22222222,\n",
       "       152377.77777778, 125484.44444444, 132111.11111111, 142855.55555556,\n",
       "       227988.88888889, 104944.44444444, 118488.88888889, 125641.66666667,\n",
       "       157722.22222222, 119793.44444444, 179516.66666667, 153883.33333333,\n",
       "       183577.77777778, 101684.22222222, 148277.77777778, 153706.55555556,\n",
       "       190986.11111111, 138119.44444444, 255221.11111111, 202322.22222222,\n",
       "       129403.66666667, 142827.77777778, 232936.44444444, 149222.22222222,\n",
       "       310611.11111111, 145433.33333333, 146388.88888889, 192422.22222222,\n",
       "       181488.88888889, 125111.11111111, 104888.88888889, 186255.55555556,\n",
       "       288916.66666667, 137972.22222222, 190099.44444444, 133666.66666667,\n",
       "       175722.22222222, 144222.22222222, 157777.77777778, 183338.88888889,\n",
       "       119806.44444444, 174727.77777778, 287830.77777778, 261849.        ,\n",
       "       137667.22222222, 243830.        , 139777.77777778, 168111.11111111,\n",
       "       137983.33333333, 135244.44444444, 338370.88888889, 104633.33333333,\n",
       "       147655.55555556, 196088.88888889, 122700.        , 101222.22222222,\n",
       "       135277.77777778, 207477.77777778, 217941.11111111, 170261.11111111,\n",
       "       278357.        ,  74388.88888889, 191277.77777778, 144550.        ,\n",
       "       139945.33333333])"
      ]
     },
     "execution_count": 218,
     "metadata": {},
     "output_type": "execute_result"
    }
   ],
   "source": [
    "gridsearch.predict(X_test)\n",
    "\n",
    "test_predictions = gridsearch.predict(X_test)\n",
    "test_predictions\n"
   ]
  },
  {
   "cell_type": "code",
   "execution_count": 219,
   "metadata": {},
   "outputs": [
    {
     "data": {
      "text/plain": [
       "(array([ 55., 153.,  90.,  33.,  23.,   9.,   1.,   0.,   0.,   1.]),\n",
       " array([ 74388.88888889, 123434.97777778, 172481.06666667, 221527.15555556,\n",
       "        270573.24444444, 319619.33333333, 368665.42222222, 417711.51111111,\n",
       "        466757.6       , 515803.68888889, 564849.77777778]),\n",
       " <a list of 10 Patch objects>)"
      ]
     },
     "execution_count": 219,
     "metadata": {},
     "output_type": "execute_result"
    },
    {
     "data": {
      "image/png": "[encoded data removed]",
      "text/plain": [
       "<Figure size 432x288 with 1 Axes>"
      ]
     },
     "metadata": {
      "needs_background": "light"
     },
     "output_type": "display_data"
    }
   ],
   "source": [
    "#f\n",
    "plt.hist(test_predictions)"
   ]
  },
  {
   "cell_type": "code",
   "execution_count": 220,
   "metadata": {},
   "outputs": [
    {
     "data": {
      "text/plain": [
       "0.7552276586075649"
      ]
     },
     "execution_count": 220,
     "metadata": {},
     "output_type": "execute_result"
    }
   ],
   "source": [
    "gridsearch.best_score_"
   ]
  },
  {
   "cell_type": "code",
   "execution_count": 221,
   "metadata": {},
   "outputs": [
    {
     "data": {
      "text/plain": [
       "0.8228198439119698"
      ]
     },
     "execution_count": 221,
     "metadata": {},
     "output_type": "execute_result"
    }
   ],
   "source": [
    "gridsearch.score(X_train,y_train)"
   ]
  },
  {
   "cell_type": "code",
   "execution_count": 222,
   "metadata": {},
   "outputs": [
    {
     "data": {
      "text/plain": [
       "0.7644372031499718"
      ]
     },
     "execution_count": 222,
     "metadata": {},
     "output_type": "execute_result"
    }
   ],
   "source": [
    "gridsearch.score(X_test,y_test)\n"
   ]
  },
  {
   "cell_type": "markdown",
   "metadata": {},
   "source": [
    "#g\n",
    "\n",
    "score is getting better while we optimize the model.From the f) plot we can see how price is changing in a period"
   ]
  },
  {
   "cell_type": "code",
   "execution_count": 232,
   "metadata": {},
   "outputs": [],
   "source": [
    "# h) Feature Engineering"
   ]
  },
  {
   "cell_type": "code",
   "execution_count": 224,
   "metadata": {},
   "outputs": [],
   "source": [
    "from sklearn.preprocessing import PolynomialFeatures"
   ]
  },
  {
   "cell_type": "code",
   "execution_count": 225,
   "metadata": {},
   "outputs": [],
   "source": [
    "model=Pipeline(steps=[\n",
    "    ('preprocessing', column_transformer),\n",
    "     ('polynomial_features', PolynomialFeatures(degree=2, include_bias=False)),\n",
    "    ('regressor', KNeighborsRegressor())\n",
    "])"
   ]
  },
  {
   "cell_type": "code",
   "execution_count": 226,
   "metadata": {},
   "outputs": [
    {
     "data": {
      "text/plain": [
       "0.7384845273786445"
      ]
     },
     "execution_count": 226,
     "metadata": {},
     "output_type": "execute_result"
    }
   ],
   "source": [
    "gridsearch = GridSearchCV(model, param_space, cv=5)\n",
    "gridsearch.fit(X_train, y_train)\n",
    "gridsearch.score(X_test,y_test)"
   ]
  },
  {
   "cell_type": "code",
   "execution_count": 227,
   "metadata": {},
   "outputs": [
    {
     "data": {
      "text/plain": [
       "0.7305026378684518"
      ]
     },
     "execution_count": 227,
     "metadata": {},
     "output_type": "execute_result"
    }
   ],
   "source": [
    "gridsearch.best_score_"
   ]
  },
  {
   "cell_type": "code",
   "execution_count": 228,
   "metadata": {},
   "outputs": [
    {
     "data": {
      "text/plain": [
       "{'regressor__n_neighbors': 9}"
      ]
     },
     "execution_count": 228,
     "metadata": {},
     "output_type": "execute_result"
    }
   ],
   "source": [
    "gridsearch.best_params_"
   ]
  },
  {
   "cell_type": "code",
   "execution_count": 229,
   "metadata": {},
   "outputs": [],
   "source": [
    "NumStr = [\"MSSubClass\",\"BsmtHalfBath\",\"BedroomAbvGr\",\"KitchenAbvGr\",\"YrSold\"]\n",
    "for col in NumStr:\n",
    "    df[col]=df[col].astype(str)"
   ]
  },
  {
   "cell_type": "code",
   "execution_count": 230,
   "metadata": {},
   "outputs": [
    {
     "data": {
      "text/html": [
       "<div>\n",
       "<style scoped>\n",
       "    .dataframe tbody tr th:only-of-type {\n",
       "        vertical-align: middle;\n",
       "    }\n",
       "\n",
       "    .dataframe tbody tr th {\n",
       "        vertical-align: top;\n",
       "    }\n",
       "\n",
       "    .dataframe thead tr th {\n",
       "        text-align: left;\n",
       "    }\n",
       "\n",
       "    .dataframe thead tr:last-of-type th {\n",
       "        text-align: right;\n",
       "    }\n",
       "</style>\n",
       "<table border=\"1\" class=\"dataframe\">\n",
       "  <thead>\n",
       "    <tr>\n",
       "      <th></th>\n",
       "      <th colspan=\"3\" halign=\"left\">SalePrice</th>\n",
       "    </tr>\n",
       "    <tr>\n",
       "      <th></th>\n",
       "      <th>mean</th>\n",
       "      <th>median</th>\n",
       "      <th>count</th>\n",
       "    </tr>\n",
       "    <tr>\n",
       "      <th>MSSubClass</th>\n",
       "      <th></th>\n",
       "      <th></th>\n",
       "      <th></th>\n",
       "    </tr>\n",
       "  </thead>\n",
       "  <tbody>\n",
       "    <tr>\n",
       "      <th>120</th>\n",
       "      <td>200779.080460</td>\n",
       "      <td>192000</td>\n",
       "      <td>87</td>\n",
       "    </tr>\n",
       "    <tr>\n",
       "      <th>160</th>\n",
       "      <td>138647.380952</td>\n",
       "      <td>146000</td>\n",
       "      <td>63</td>\n",
       "    </tr>\n",
       "    <tr>\n",
       "      <th>180</th>\n",
       "      <td>102300.000000</td>\n",
       "      <td>88500</td>\n",
       "      <td>10</td>\n",
       "    </tr>\n",
       "    <tr>\n",
       "      <th>190</th>\n",
       "      <td>129613.333333</td>\n",
       "      <td>128250</td>\n",
       "      <td>30</td>\n",
       "    </tr>\n",
       "    <tr>\n",
       "      <th>20</th>\n",
       "      <td>185224.811567</td>\n",
       "      <td>159250</td>\n",
       "      <td>536</td>\n",
       "    </tr>\n",
       "    <tr>\n",
       "      <th>30</th>\n",
       "      <td>95829.724638</td>\n",
       "      <td>99900</td>\n",
       "      <td>69</td>\n",
       "    </tr>\n",
       "    <tr>\n",
       "      <th>40</th>\n",
       "      <td>156125.000000</td>\n",
       "      <td>142500</td>\n",
       "      <td>4</td>\n",
       "    </tr>\n",
       "    <tr>\n",
       "      <th>45</th>\n",
       "      <td>108591.666667</td>\n",
       "      <td>107500</td>\n",
       "      <td>12</td>\n",
       "    </tr>\n",
       "    <tr>\n",
       "      <th>50</th>\n",
       "      <td>143302.972222</td>\n",
       "      <td>132000</td>\n",
       "      <td>144</td>\n",
       "    </tr>\n",
       "    <tr>\n",
       "      <th>60</th>\n",
       "      <td>239948.501672</td>\n",
       "      <td>215200</td>\n",
       "      <td>299</td>\n",
       "    </tr>\n",
       "    <tr>\n",
       "      <th>70</th>\n",
       "      <td>166772.416667</td>\n",
       "      <td>156000</td>\n",
       "      <td>60</td>\n",
       "    </tr>\n",
       "    <tr>\n",
       "      <th>75</th>\n",
       "      <td>192437.500000</td>\n",
       "      <td>163500</td>\n",
       "      <td>16</td>\n",
       "    </tr>\n",
       "    <tr>\n",
       "      <th>80</th>\n",
       "      <td>169736.551724</td>\n",
       "      <td>166500</td>\n",
       "      <td>58</td>\n",
       "    </tr>\n",
       "    <tr>\n",
       "      <th>85</th>\n",
       "      <td>147810.000000</td>\n",
       "      <td>140750</td>\n",
       "      <td>20</td>\n",
       "    </tr>\n",
       "    <tr>\n",
       "      <th>90</th>\n",
       "      <td>133541.076923</td>\n",
       "      <td>135980</td>\n",
       "      <td>52</td>\n",
       "    </tr>\n",
       "  </tbody>\n",
       "</table>\n",
       "</div>"
      ],
      "text/plain": [
       "                SalePrice              \n",
       "                     mean  median count\n",
       "MSSubClass                             \n",
       "120         200779.080460  192000    87\n",
       "160         138647.380952  146000    63\n",
       "180         102300.000000   88500    10\n",
       "190         129613.333333  128250    30\n",
       "20          185224.811567  159250   536\n",
       "30           95829.724638   99900    69\n",
       "40          156125.000000  142500     4\n",
       "45          108591.666667  107500    12\n",
       "50          143302.972222  132000   144\n",
       "60          239948.501672  215200   299\n",
       "70          166772.416667  156000    60\n",
       "75          192437.500000  163500    16\n",
       "80          169736.551724  166500    58\n",
       "85          147810.000000  140750    20\n",
       "90          133541.076923  135980    52"
      ]
     },
     "execution_count": 230,
     "metadata": {},
     "output_type": "execute_result"
    }
   ],
   "source": [
    "df.groupby(['MSSubClass'])[['SalePrice']].agg(['mean','median','count'])"
   ]
  },
  {
   "cell_type": "code",
   "execution_count": 231,
   "metadata": {},
   "outputs": [],
   "source": [
    "df[\"oMSSubClass\"] = df.MSSubClass.map({'180':1, \n",
    "                                        '30':2, '45':2, \n",
    "                                        '190':3, '50':3, '90':3, \n",
    "                                        '85':4, '40':4, '160':4, \n",
    "                                        '70':5, '20':5, '75':5, '80':5, '150':5,\n",
    "                                        '120': 6, '60':6})\n",
    "    \n",
    "df[\"oHeating\"] = df.Heating.map({'Floor':1, 'Grav':1, 'Wall':2, 'OthW':3, 'GasW':4, 'GasA':5})\n",
    "    \n",
    "    \n",
    "    \n",
    "    \n",
    "df[\"oSaleType\"] = df.SaleType.map({'COD':1, 'ConLD':1, 'ConLI':1, 'ConLw':1, 'Oth':1, 'WD':1,\n",
    "                                       'CWD':2, 'Con':3, 'New':3})"
   ]
  },
  {
   "cell_type": "code",
   "execution_count": null,
   "metadata": {},
   "outputs": [],
   "source": []
  },
  {
   "cell_type": "code",
   "execution_count": null,
   "metadata": {},
   "outputs": [],
   "source": []
  }
 ],
 "metadata": {
  "kernelspec": {
   "display_name": "Python 3",
   "language": "python",
   "name": "python3"
  },
  "language_info": {
   "codemirror_mode": {
    "name": "ipython",
    "version": 3
   },
   "file_extension": ".py",
   "mimetype": "text/x-python",
   "name": "python",
   "nbconvert_exporter": "python",
   "pygments_lexer": "ipython3",
   "version": "3.8.3"
  }
 },
 "nbformat": 4,
 "nbformat_minor": 4
}
