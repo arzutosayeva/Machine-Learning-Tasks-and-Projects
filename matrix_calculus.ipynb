{
 "cells": [
  {
   "cell_type": "code",
   "execution_count": 2,
   "metadata": {},
   "outputs": [
    {
     "data": {
      "text/plain": [
       "array([0.23083893, 0.33911109, 0.43272626, 0.        , 0.        ])"
      ]
     },
     "execution_count": 2,
     "metadata": {},
     "output_type": "execute_result"
    }
   ],
   "source": [
    "#1\n",
    "import numpy as np\n",
    "A= np.array([[89, 93, 83,0,0],\n",
    "              [100,86,78,0,0],\n",
    "              [97,90,88,0,0],\n",
    "              [83,99,100,0,0],\n",
    "              [100,81,75,0,0]])\n",
    "b = np.array([88,86,91,96,83])\n",
    "\n",
    "\n",
    "np.linalg.pinv(A.T.dot(A)).dot(A.T).dot(b)"
   ]
  },
  {
   "cell_type": "code",
   "execution_count": 17,
   "metadata": {},
   "outputs": [
    {
     "name": "stdout",
     "output_type": "stream",
     "text": [
      "[[0.2308389 ]\n",
      " [0.33911125]\n",
      " [0.43272612]]\n",
      "[[0.2308389 ]\n",
      " [0.33911124]\n",
      " [0.43272613]]\n",
      "[[0.23083891]\n",
      " [0.33911123]\n",
      " [0.43272614]]\n",
      "[[0.23083891]\n",
      " [0.33911123]\n",
      " [0.43272614]]\n",
      "[[0.23083891]\n",
      " [0.33911123]\n",
      " [0.43272614]]\n",
      "[[0.23083891]\n",
      " [0.33911123]\n",
      " [0.43272614]]\n",
      "[[0.23083891]\n",
      " [0.33911122]\n",
      " [0.43272614]]\n",
      "[[0.23083891]\n",
      " [0.33911122]\n",
      " [0.43272615]]\n",
      "[[0.23083891]\n",
      " [0.33911122]\n",
      " [0.43272615]]\n",
      "[[0.23083891]\n",
      " [0.33911122]\n",
      " [0.43272615]]\n",
      "[[0.23083891]\n",
      " [0.33911122]\n",
      " [0.43272615]]\n",
      "[[0.23083891]\n",
      " [0.33911122]\n",
      " [0.43272615]]\n",
      "[[0.23083891]\n",
      " [0.33911122]\n",
      " [0.43272615]]\n",
      "[[0.23083891]\n",
      " [0.33911122]\n",
      " [0.43272615]]\n",
      "[[0.23083891]\n",
      " [0.33911122]\n",
      " [0.43272615]]\n",
      "[[0.23083891]\n",
      " [0.33911121]\n",
      " [0.43272615]]\n",
      "[[0.23083891]\n",
      " [0.33911121]\n",
      " [0.43272615]]\n",
      "[[0.23083891]\n",
      " [0.33911121]\n",
      " [0.43272615]]\n",
      "[[0.23083891]\n",
      " [0.33911121]\n",
      " [0.43272615]]\n",
      "[[0.23083891]\n",
      " [0.33911121]\n",
      " [0.43272615]]\n",
      "[[0.23083891]\n",
      " [0.33911121]\n",
      " [0.43272615]]\n",
      "[[0.23083891]\n",
      " [0.33911121]\n",
      " [0.43272615]]\n",
      "[[0.23083891]\n",
      " [0.33911121]\n",
      " [0.43272616]]\n",
      "[[0.23083891]\n",
      " [0.33911121]\n",
      " [0.43272616]]\n",
      "[[0.23083891]\n",
      " [0.33911121]\n",
      " [0.43272616]]\n",
      "[[0.23083891]\n",
      " [0.33911121]\n",
      " [0.43272616]]\n",
      "[[0.23083891]\n",
      " [0.33911121]\n",
      " [0.43272616]]\n",
      "[[0.23083891]\n",
      " [0.33911121]\n",
      " [0.43272616]]\n",
      "[[0.23083891]\n",
      " [0.33911121]\n",
      " [0.43272616]]\n",
      "[[0.23083891]\n",
      " [0.33911121]\n",
      " [0.43272616]]\n",
      "[[0.23083891]\n",
      " [0.33911121]\n",
      " [0.43272616]]\n",
      "[[0.23083891]\n",
      " [0.33911121]\n",
      " [0.43272616]]\n",
      "[[0.23083891]\n",
      " [0.33911121]\n",
      " [0.43272616]]\n",
      "[[0.23083891]\n",
      " [0.33911121]\n",
      " [0.43272616]]\n",
      "[[0.23083891]\n",
      " [0.33911121]\n",
      " [0.43272616]]\n",
      "[[0.23083891]\n",
      " [0.33911121]\n",
      " [0.43272616]]\n",
      "[[0.23083891]\n",
      " [0.33911121]\n",
      " [0.43272616]]\n",
      "[[0.23083891]\n",
      " [0.33911121]\n",
      " [0.43272616]]\n",
      "[[0.23083891]\n",
      " [0.3391112 ]\n",
      " [0.43272616]]\n",
      "[[0.23083891]\n",
      " [0.3391112 ]\n",
      " [0.43272616]]\n",
      "[[0.23083891]\n",
      " [0.3391112 ]\n",
      " [0.43272616]]\n",
      "[[0.23083891]\n",
      " [0.3391112 ]\n",
      " [0.43272616]]\n",
      "[[0.23083891]\n",
      " [0.3391112 ]\n",
      " [0.43272616]]\n",
      "[[0.23083891]\n",
      " [0.3391112 ]\n",
      " [0.43272616]]\n",
      "[[0.23083891]\n",
      " [0.3391112 ]\n",
      " [0.43272616]]\n",
      "[[0.23083891]\n",
      " [0.3391112 ]\n",
      " [0.43272616]]\n",
      "[[0.23083891]\n",
      " [0.3391112 ]\n",
      " [0.43272616]]\n",
      "[[0.23083891]\n",
      " [0.3391112 ]\n",
      " [0.43272616]]\n",
      "[[0.23083891]\n",
      " [0.3391112 ]\n",
      " [0.43272616]]\n",
      "[[0.23083891]\n",
      " [0.3391112 ]\n",
      " [0.43272616]]\n"
     ]
    }
   ],
   "source": [
    "#2\n",
    "import matplotlib.pyplot as plt\n",
    "X = np.array([\n",
    "    [89, 93, 83],\n",
    "    [100, 86, 78],\n",
    "    [97, 90, 88],\n",
    "    [83, 99, 100],\n",
    "    [100, 81, 75]\n",
    "])\n",
    "y = np.array([\n",
    "    [88],\n",
    "    [86],\n",
    "    [91],\n",
    "    [96],\n",
    "    [83]\n",
    "])\n",
    "a = np.random.randn(3)\n",
    "a=a.reshape(3,1)\n",
    "E = []\n",
    "step_size = 0.000009\n",
    "for i in range(50):\n",
    "    while True:\n",
    "        er=((X @ a - y) ** 2).sum()\n",
    "        E.append(er)\n",
    "        g = ((a.T @ X.T - y.T) @ X).T\n",
    "        a =a- g * step_size\n",
    "        if len(E) > 1 and E[-2] - E[-1] < 0:\n",
    "            break\n",
    "    \n",
    "    print(a)\n",
    "    "
   ]
  },
  {
   "cell_type": "code",
   "execution_count": 18,
   "metadata": {},
   "outputs": [
    {
     "data": {
      "text/plain": [
       "[<matplotlib.lines.Line2D at 0x2846aa7a400>]"
      ]
     },
     "execution_count": 18,
     "metadata": {},
     "output_type": "execute_result"
    },
    {
     "data": {
      "image/png": "[encoded data removed]",
      "text/plain": [
       "<Figure size 432x288 with 1 Axes>"
      ]
     },
     "metadata": {
      "needs_background": "light"
     },
     "output_type": "display_data"
    }
   ],
   "source": [
    "plt.plot(np.log(E))"
   ]
  },
  {
   "cell_type": "markdown",
   "metadata": {},
   "source": [
    "#3\n",
    "The less is step size the closer is weight(a). In order to be close to convergence we need to take small step size which leads to closer result of weight."
   ]
  }
 ],
 "metadata": {
  "kernelspec": {
   "display_name": "Python 3",
   "language": "python",
   "name": "python3"
  },
  "language_info": {
   "codemirror_mode": {
    "name": "ipython",
    "version": 3
   },
   "file_extension": ".py",
   "mimetype": "text/x-python",
   "name": "python",
   "nbconvert_exporter": "python",
   "pygments_lexer": "ipython3",
   "version": "3.8.3"
  }
 },
 "nbformat": 4,
 "nbformat_minor": 4
}
